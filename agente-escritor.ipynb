{
 "cells": [
  {
   "cell_type": "code",
   "execution_count": null,
   "id": "071eab8c",
   "metadata": {},
   "outputs": [],
   "source": [
    "!pip install crewai==0.28.8 crewai_tools==0.1.6 langchain_community==0.0.29"
   ]
  },
  {
   "cell_type": "code",
   "execution_count": null,
   "id": "cd95736e",
   "metadata": {},
   "outputs": [],
   "source": [
    "from crewai import Agent, Task, Crew\n",
    "from IPython.display import Markdown"
   ]
  },
  {
   "cell_type": "code",
   "execution_count": null,
   "id": "474c8d77",
   "metadata": {},
   "outputs": [],
   "source": [
    "import os\n",
    "os.environ['OPENAI_API_KEY'] = \"\"\n",
    "os.environ['OPENAI_MODEL_NAME'] = \"gpt-3.5-turbo\""
   ]
  },
  {
   "cell_type": "code",
   "execution_count": null,
   "id": "034d92f1",
   "metadata": {},
   "outputs": [],
   "source": [
    "planner = Agent(\n",
    "    role = \"Content Planner\",\n",
    "    goal = \"Plan engaging and factually accurate content about {topic}\",\n",
    "    backstory = \"\"\"You're working on planning a blog post article about the topis: {topic}.\n",
    "    You collect information that helps the audience learn something and make informed decisions.\n",
    "    You work is the basis for the Content Writer to write the article on this topic.\n",
    "    \"\"\",\n",
    "    allow_delegation = False,\n",
    "    verbose = True\n",
    ")"
   ]
  },
  {
   "cell_type": "code",
   "execution_count": null,
   "id": "64be6fea",
   "metadata": {},
   "outputs": [],
   "source": [
    "writer = Agent(\n",
    "    role = \"Content Writer\",\n",
    "    goal = \"Write insightful and factually accurate opinion piece about the topic: {topic}\",\n",
    "    backstory = \"\"\"You're working on writing an opinion about the topic: {topic}. You base your opinion on the work of the Content Planner, who provides an outline and relevant context about the topic. You follow the main objectives and direction of the outline, as provided by the Context Planner. You also provide objective and impartial insights and back them with information provided by the Content Planner.\n",
    "    \"\"\",\n",
    "    allow_delegation = False,\n",
    "    verbose = True\n",
    ")"
   ]
  },
  {
   "cell_type": "code",
   "execution_count": null,
   "id": "8b103f46",
   "metadata": {},
   "outputs": [],
   "source": [
    "editor = Agent(\n",
    "    role = \"Editor\", \n",
    "    goal = \"Edit a given blog post article to align with the writing style of the organization.\",\n",
    "    backstory = \"\"\"You are a editor that receives a blog post from the Content Writer. Your goal is to review the blog post to ensure that it follows journalistic best practices.\n",
    "    \"\"\",\n",
    "    allow_delegation = False,\n",
    "    verbose = True\n",
    ")"
   ]
  },
  {
   "cell_type": "code",
   "execution_count": null,
   "id": "332f26fb",
   "metadata": {},
   "outputs": [],
   "source": [
    "plan = Task(\n",
    "    description=(\n",
    "        \"1. Prioritaze the last trends, key players, and noteworthy news on {topic}\"\n",
    "        \"2. Identify the target audience, considering their interests and pain points.\"\n",
    "        \"3. Develop a detailed content outline including an introduction, key points, and call to action.\"\n",
    "        \"4. Include SEO keyword and relevant data or sources.\"\n",
    "    ),\n",
    "    excepted_output=\"A comprehensive content plan document with an outline, audience analysis, SEO keywords and resources.\",\n",
    "    agent=planner\n",
    ")"
   ]
  },
  {
   "cell_type": "code",
   "execution_count": null,
   "id": "95dd39b0",
   "metadata": {},
   "outputs": [],
   "source": [
    "write = Task(\n",
    "    description=(\n",
    "        \"1. Use the content plan to craft a compelling blog post on topic: {topic}.\"\n",
    "        \"2. Incorporate the SEO keywords naturally.\"\n",
    "        \"3. Sections/Subtitles are properly named in engaging manner.\"\n",
    "        \"4. Ensure the post is structured with an engaging introduction, insightful body, and summarization conclusion.\"\n",
    "    ),\n",
    "    expected_output=\"A well-writen blog post in Markdown format, ready for publication, each section should have 2 or 3 paragraphs.\",\n",
    "    agent=writer\n",
    ")"
   ]
  },
  {
   "cell_type": "code",
   "execution_count": null,
   "id": "0c35f9cb",
   "metadata": {},
   "outputs": [],
   "source": [
    "edit = Task(\n",
    "    description=(\"Proofread the given blog post for grammatical errors and aligment with the brand's voice.\"),\n",
    "    expected_output=\"A well-writen blog post in Markdown format, ready for publication, each section should have 2 or 3 paragraphs.\",\n",
    "    agent=editor\n",
    ")"
   ]
  },
  {
   "cell_type": "code",
   "execution_count": null,
   "id": "b107394e",
   "metadata": {},
   "outputs": [],
   "source": [
    "crew = Crew(\n",
    "    agents=[planner, writer, editor],\n",
    "    tasks=[plan, write, edit],\n",
    "    verbose=2\n",
    ")"
   ]
  },
  {
   "cell_type": "code",
   "execution_count": null,
   "id": "338d708e",
   "metadata": {},
   "outputs": [],
   "source": [
    "result = crew.kickoff(inputs={\"topic\": \"Artificial Intelligence\"})"
   ]
  },
  {
   "cell_type": "code",
   "execution_count": null,
   "id": "9c98f1d9",
   "metadata": {},
   "outputs": [],
   "source": [
    "Markdown(result)"
   ]
  }
 ],
 "metadata": {
  "language_info": {
   "name": "python"
  }
 },
 "nbformat": 4,
 "nbformat_minor": 5
}
